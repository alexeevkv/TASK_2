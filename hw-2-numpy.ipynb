{
 "cells": [
  {
   "cell_type": "markdown",
   "metadata": {},
   "source": [
    "# Самостоятельная работа 2. Numpy\n",
    "\n",
    "1. Скачайте этот ноутбук к себе.\n",
    "2. Заполните пропущенные ячейки, отвечая на заданные вопросы. Там должен быть код! (если не сказано обратное)\n",
    "3. Сохраните результат в своём гитхаб репозитории.\n",
    "\n",
    "#### Полезная литература\n",
    "\n",
    "- http://www.numpy.org/\n",
    "- https://jakevdp.github.io/PythonDataScienceHandbook/02.00-introduction-to-numpy.html\n",
    "- https://docs.scipy.org/doc/numpy/user/quickstart.html"
   ]
  },
  {
   "cell_type": "markdown",
   "metadata": {},
   "source": [
    "1) Импортировать numpy и написать версию"
   ]
  },
  {
   "cell_type": "code",
   "execution_count": 1,
   "metadata": {},
   "outputs": [
    {
     "name": "stdout",
     "output_type": "stream",
     "text": [
      "1.23.3\n"
     ]
    }
   ],
   "source": [
    "import numpy as np\n",
    "\n",
    "\n",
    "print(np.__version__)"
   ]
  },
  {
   "cell_type": "markdown",
   "metadata": {},
   "source": [
    "2) Создать нулевой вектор размера 10"
   ]
  },
  {
   "cell_type": "code",
   "execution_count": 2,
   "metadata": {},
   "outputs": [
    {
     "name": "stdout",
     "output_type": "stream",
     "text": [
      "[0. 0. 0. 0. 0. 0. 0. 0. 0. 0.]\n"
     ]
    }
   ],
   "source": [
    "a = np.zeros(10)\n",
    "print(a)"
   ]
  },
  {
   "cell_type": "markdown",
   "metadata": {},
   "source": [
    "3) Создать вектор заполненный 7-ами размера 7"
   ]
  },
  {
   "cell_type": "code",
   "execution_count": 4,
   "metadata": {},
   "outputs": [
    {
     "name": "stdout",
     "output_type": "stream",
     "text": [
      "[7. 7. 7. 7. 7. 7. 7.]\n"
     ]
    }
   ],
   "source": [
    "a = 7 * np.ones(7)\n",
    "print(a)"
   ]
  },
  {
   "cell_type": "markdown",
   "metadata": {},
   "source": [
    "4) Создать вектор заполненный четными числами от 10 до 100"
   ]
  },
  {
   "cell_type": "code",
   "execution_count": 17,
   "metadata": {},
   "outputs": [
    {
     "name": "stdout",
     "output_type": "stream",
     "text": [
      "[ 10  12  14  16  18  20  22  24  26  28  30  32  34  36  38  40  42  44\n",
      "  46  48  50  52  54  56  58  60  62  64  66  68  70  72  74  76  78  80\n",
      "  82  84  86  88  90  92  94  96  98 100]\n"
     ]
    }
   ],
   "source": [
    "a = np.linspace(10, 100, num=(100 - 10) // 2 + 1, dtype=int)\n",
    "print(a)"
   ]
  },
  {
   "cell_type": "markdown",
   "metadata": {},
   "source": [
    "5) Создать массив случайных чисел и развернуть его задом наперёд"
   ]
  },
  {
   "cell_type": "code",
   "execution_count": 19,
   "metadata": {},
   "outputs": [
    {
     "name": "stdout",
     "output_type": "stream",
     "text": [
      "[3 9 0 4 0 3 1 8 3 7]\n",
      "[7 3 8 1 3 0 4 0 9 3]\n"
     ]
    }
   ],
   "source": [
    "a = np.random.randint(0, 10, 10)\n",
    "print(a)\n",
    "\n",
    "a = a[::-1]\n",
    "print(a)"
   ]
  },
  {
   "cell_type": "markdown",
   "metadata": {},
   "source": [
    "6) Создать двумерную матрицу размера 3 на 3, заполненную числами от 0 до 9"
   ]
  },
  {
   "cell_type": "markdown",
   "metadata": {},
   "source": [
    "> От 0 до 9 располагается 10 цифр, а в матрицу 3х3 можно уместить только 9. Наверное полагалось от 1 до 9 "
   ]
  },
  {
   "cell_type": "code",
   "execution_count": 32,
   "metadata": {},
   "outputs": [
    {
     "name": "stdout",
     "output_type": "stream",
     "text": [
      "[[1 2 3]\n",
      " [4 5 6]\n",
      " [7 8 9]]\n"
     ]
    }
   ],
   "source": [
    "a = np.linspace(1, 9, num=9, dtype=int).reshape(3, 3)\n",
    "print(a)"
   ]
  },
  {
   "cell_type": "markdown",
   "metadata": {},
   "source": [
    "7) Создать матрицу размера 4 на 4 с единицами на диагонали смещеной на один наверх."
   ]
  },
  {
   "cell_type": "code",
   "execution_count": 178,
   "metadata": {},
   "outputs": [
    {
     "name": "stdout",
     "output_type": "stream",
     "text": [
      "[[0. 1. 0. 0.]\n",
      " [0. 0. 1. 0.]\n",
      " [0. 0. 0. 1.]\n",
      " [0. 0. 0. 0.]]\n"
     ]
    }
   ],
   "source": [
    "a = np.zeros((4, 4))\n",
    "\n",
    "for i in range(0, len(a)):\n",
    "    if i >= len(a) -1:\n",
    "        continue\n",
    "    else:\n",
    "        a[i][i + 1] = 1\n",
    "\n",
    "print(a)"
   ]
  },
  {
   "cell_type": "markdown",
   "metadata": {},
   "source": [
    "8) Создать матрицу с числами в диапазоне от 1 до 4 по диагонали. В других ячейках матрицы должны быть семерки."
   ]
  },
  {
   "cell_type": "code",
   "execution_count": 161,
   "metadata": {},
   "outputs": [
    {
     "name": "stdout",
     "output_type": "stream",
     "text": [
      "[[1. 7. 7. 7.]\n",
      " [7. 2. 7. 7.]\n",
      " [7. 7. 3. 7.]\n",
      " [7. 7. 7. 4.]]\n"
     ]
    }
   ],
   "source": [
    "a = 7 * np.ones((4, 4))\n",
    "np.fill_diagonal(a, [i for i in range(1, 5)])\n",
    "print(a)"
   ]
  },
  {
   "cell_type": "markdown",
   "metadata": {},
   "source": [
    "9) Создать матрицу размера 5 на 5 заполненную чилами от 0 до 4 в строках."
   ]
  },
  {
   "cell_type": "code",
   "execution_count": 46,
   "metadata": {},
   "outputs": [
    {
     "name": "stdout",
     "output_type": "stream",
     "text": [
      "[[0 1 2 3 4]\n",
      " [0 1 2 3 4]\n",
      " [0 1 2 3 4]\n",
      " [0 1 2 3 4]\n",
      " [0 1 2 3 4]]\n"
     ]
    }
   ],
   "source": [
    "a = np.array([[i for i in range (0, 5)] for _ in range(5)])\n",
    "print(a)"
   ]
  },
  {
   "cell_type": "markdown",
   "metadata": {},
   "source": [
    "10) Создать матрицу случайных чисел размера 10 на 10 и отнять среднее по строкам из каждого элемента строки"
   ]
  },
  {
   "cell_type": "code",
   "execution_count": 57,
   "metadata": {},
   "outputs": [
    {
     "name": "stdout",
     "output_type": "stream",
     "text": [
      "[[16 34 54 34 35 89 17  7 37 67]\n",
      " [82 91 46 50  5 81 79 36 67 34]\n",
      " [ 0 74 72 32 94 92  1 69 85 75]\n",
      " [54 26 42 98 35 72 63 80 50 92]\n",
      " [ 3 51  2 78 75 22 19 89 67 34]\n",
      " [47 51 46 43 44 42 75 75 30 78]\n",
      " [ 2 38  2 28 17 80 37 44 50  6]\n",
      " [32 87 66 89 78 27 91 84 92 98]\n",
      " [72 59 89 24 49 95 21 10  0 66]\n",
      " [87 36 13 59 38 84 15 46 90 35]]\n",
      "[[-23.  -23.1  -5.4 -27.2  -9.   35.9 -13.4 -67.4 -11.5  16.7]\n",
      " [ 43.   33.9 -13.4 -11.2 -39.   27.9  48.6 -38.4  18.5 -16.3]\n",
      " [-39.   16.9  12.6 -29.2  50.   38.9 -29.4  -5.4  36.5  24.7]\n",
      " [ 15.  -31.1 -17.4  36.8  -9.   18.9  32.6   5.6   1.5  41.7]\n",
      " [-36.   -6.1 -57.4  16.8  31.  -31.1 -11.4  14.6  18.5 -16.3]\n",
      " [  8.   -6.1 -13.4 -18.2   0.  -11.1  44.6   0.6 -18.5  27.7]\n",
      " [-37.  -19.1 -57.4 -33.2 -27.   26.9   6.6 -30.4   1.5 -44.3]\n",
      " [ -7.   29.9   6.6  27.8  34.  -26.1  60.6   9.6  43.5  47.7]\n",
      " [ 33.    1.9  29.6 -37.2   5.   41.9  -9.4 -64.4 -48.5  15.7]\n",
      " [ 48.  -21.1 -46.4  -2.2  -6.   30.9 -15.4 -28.4  41.5 -15.3]]\n"
     ]
    }
   ],
   "source": [
    "a = np.random.randint(0, 100, (10, 10))\n",
    "print(a)\n",
    "\n",
    "a = a - a.mean(axis=1)\n",
    "\n",
    "print(a)"
   ]
  },
  {
   "cell_type": "markdown",
   "metadata": {},
   "source": [
    "11) Создать матрицу случайных чисел размера 10 на 10 и отнять медиану по столбцам из каждого элемента столбца  "
   ]
  },
  {
   "cell_type": "code",
   "execution_count": 70,
   "metadata": {},
   "outputs": [
    {
     "name": "stdout",
     "output_type": "stream",
     "text": [
      "[[2 1 5 2 3 8 0 3 9 9]\n",
      " [2 2 5 7 3 1 8 8 4 0]\n",
      " [9 6 1 7 0 6 4 4 0 0]\n",
      " [1 3 2 8 8 5 2 3 8 3]\n",
      " [7 9 3 6 4 7 2 9 4 3]\n",
      " [0 3 9 4 7 9 5 1 0 3]\n",
      " [8 3 0 8 2 3 9 2 6 1]\n",
      " [6 6 3 3 9 7 4 4 8 2]\n",
      " [8 1 5 4 8 7 8 3 3 1]\n",
      " [0 7 9 0 5 7 9 8 3 8]]\n",
      "[[-2.  -2.   1.  -3.  -1.5  1.  -4.5 -0.5  5.   6.5]\n",
      " [-2.  -1.   1.   2.  -1.5 -6.   3.5  4.5  0.  -2.5]\n",
      " [ 5.   3.  -3.   2.  -4.5 -1.  -0.5  0.5 -4.  -2.5]\n",
      " [-3.   0.  -2.   3.   3.5 -2.  -2.5 -0.5  4.   0.5]\n",
      " [ 3.   6.  -1.   1.  -0.5  0.  -2.5  5.5  0.   0.5]\n",
      " [-4.   0.   5.  -1.   2.5  2.   0.5 -2.5 -4.   0.5]\n",
      " [ 4.   0.  -4.   3.  -2.5 -4.   4.5 -1.5  2.  -1.5]\n",
      " [ 2.   3.  -1.  -2.   4.5  0.  -0.5  0.5  4.  -0.5]\n",
      " [ 4.  -2.   1.  -1.   3.5  0.   3.5 -0.5 -1.  -1.5]\n",
      " [-4.   4.   5.  -5.   0.5  0.   4.5  4.5 -1.   5.5]]\n"
     ]
    }
   ],
   "source": [
    "a = np.random.randint(0, 10, (10, 10))\n",
    "print(a)\n",
    "\n",
    "a = a - np.median(a, axis=0)\n",
    "\n",
    "print(a)"
   ]
  },
  {
   "cell_type": "markdown",
   "metadata": {},
   "source": [
    "12) Создать матрицу случайных чисел 5x5. Добавить к ней столбецы максимумов и минимумов по строкам. Получится матрица 5x7.  "
   ]
  },
  {
   "cell_type": "code",
   "execution_count": 83,
   "metadata": {},
   "outputs": [
    {
     "name": "stdout",
     "output_type": "stream",
     "text": [
      "[[ 0 33 95  3 32 82 86 84 88 81]\n",
      " [91 62 87 79  0 62 72 22 87 26]\n",
      " [55  0 38 36 19 72 41 50 92 75]\n",
      " [10 12 58 61  6 97 85 54 91  9]\n",
      " [64 27 46 88 83 41 44 43 81 73]\n",
      " [75 54 21 68 99 10 21 12 69 16]\n",
      " [37 11 78 65 24 74 71 76 34 80]\n",
      " [64 88 87 33 73 70 23 52 48 29]\n",
      " [66 68  1 13 14 95 46 98 67 35]\n",
      " [43 19  0 64 46 35 24 17  4 30]]\n",
      "[[ 0 33 95  3 32 82 86 84 88 81 95  0]\n",
      " [91 62 87 79  0 62 72 22 87 26 91  0]\n",
      " [55  0 38 36 19 72 41 50 92 75 92  0]\n",
      " [10 12 58 61  6 97 85 54 91  9 97  6]\n",
      " [64 27 46 88 83 41 44 43 81 73 88 27]\n",
      " [75 54 21 68 99 10 21 12 69 16 99 10]\n",
      " [37 11 78 65 24 74 71 76 34 80 80 11]\n",
      " [64 88 87 33 73 70 23 52 48 29 88 23]\n",
      " [66 68  1 13 14 95 46 98 67 35 98  1]\n",
      " [43 19  0 64 46 35 24 17  4 30 64  0]]\n"
     ]
    }
   ],
   "source": [
    "a = np.random.randint(0, 100, (10, 10))\n",
    "\n",
    "print(a)\n",
    "\n",
    "max_col_values, min_col_values = np.max(a, axis=1), np.min(a, axis=1)\n",
    "\n",
    "a = np.append(a, np.array([max_col_values, min_col_values]).T, axis=1)\n",
    "print(a)"
   ]
  },
  {
   "cell_type": "markdown",
   "metadata": {},
   "source": [
    "13) Вектор чисел от 1 до 51 преобразовать в вектор нечетных чисел и в вектор четных чисел, поменять их размерности, чтобы получились две матрица. Найти произведение этих матриц. Найти обратную матрицу эётого произведения.  "
   ]
  },
  {
   "cell_type": "code",
   "execution_count": 31,
   "metadata": {},
   "outputs": [
    {
     "name": "stdout",
     "output_type": "stream",
     "text": [
      "[[-2.46855905e+11  2.33980583e-01 -9.47926674e+11  2.88327697e+12\n",
      "  -1.68849439e+12]\n",
      " [ 1.63744459e+14  5.47775000e+01 -5.30898183e+14  4.06818531e+14\n",
      "  -3.96648068e+13]\n",
      " [-3.24610577e+14  2.81474977e+14  3.52273250e+14 -2.50529121e+14\n",
      "  -5.86085289e+13]\n",
      " [ 1.58975203e+14 -5.62949953e+14  8.91939755e+14 -7.30930459e+14\n",
      "   2.42965456e+14]\n",
      " [ 2.13777213e+12  2.81474977e+14 -7.12366895e+14  5.71757772e+14\n",
      "  -1.43003626e+14]]\n"
     ]
    }
   ],
   "source": [
    "a = np.linspace(1, 50, 50)\n",
    "\n",
    "even_vect = np.array([el for el in a if el % 2 == 0]).reshape((5, 5))\n",
    "odd_vect = np.array([el for el in a if el % 2 != 0]).reshape((5, 5))\n",
    "\n",
    "mul = odd_vect @ even_vect\n",
    "\n",
    "inv = np.linalg.inv(mul)\n",
    "\n",
    "print(inv)"
   ]
  },
  {
   "cell_type": "markdown",
   "metadata": {},
   "source": [
    "14) Создать 8x8 матрицу и заполнить её в шахматном порядке нулями и единицами. "
   ]
  },
  {
   "cell_type": "markdown",
   "metadata": {},
   "source": [
    "> 1 - белые \n",
    ">\n",
    "> 0 - черные"
   ]
  },
  {
   "cell_type": "code",
   "execution_count": 126,
   "metadata": {},
   "outputs": [
    {
     "name": "stdout",
     "output_type": "stream",
     "text": [
      "[[1 0 1 0 1 0 1 0]\n",
      " [0 1 0 1 0 1 0 1]\n",
      " [1 0 1 0 1 0 1 0]\n",
      " [0 1 0 1 0 1 0 1]\n",
      " [1 0 1 0 1 0 1 0]\n",
      " [0 1 0 1 0 1 0 1]\n",
      " [1 0 1 0 1 0 1 0]\n",
      " [0 1 0 1 0 1 0 1]]\n"
     ]
    }
   ],
   "source": [
    "a = np.tile([0, 1], 32).reshape(8, 8)\n",
    "\n",
    "for i in range(0, len(a), 2):\n",
    "    a[i] = np.roll(a[i], 1)\n",
    "\n",
    "print(a)"
   ]
  }
 ],
 "metadata": {
  "kernelspec": {
   "display_name": "Python 3",
   "language": "python",
   "name": "python3"
  },
  "language_info": {
   "codemirror_mode": {
    "name": "ipython",
    "version": 3
   },
   "file_extension": ".py",
   "mimetype": "text/x-python",
   "name": "python",
   "nbconvert_exporter": "python",
   "pygments_lexer": "ipython3",
   "version": "3.9.15"
  }
 },
 "nbformat": 4,
 "nbformat_minor": 4
}
